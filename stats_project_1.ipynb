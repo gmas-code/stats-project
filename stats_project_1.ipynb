+*In[ ]:*+
[source, ipython3]
----
from IPython.display import display,Math
import numpy as np
import pandas as pd
import seaborn as sns
----

Hard Coding Stats, as much as possible. Latex all the math


+*In[4]:*+
[source, ipython3]
----
# Basic utility function
def my_len(variable):
    n = 0
    for x in variable:
        n += 1
    return(n)
----


+*In[9]:*+
[source, ipython3]
----
# Sum
display(Math("\Sigma X"))
----


+*Out[9]:*+
----<IPython.core.display.Math object>----


+*In[5]:*+
[source, ipython3]
----
def my_sum(variable):
    n = 0
    for x in variable:
        n += x
    return(n)
----


+*In[11]:*+
[source, ipython3]
----
display(Math(" \\frac{1}{n} \cdot  \sum_{n=1}^{n=k} n"))

----


+*Out[11]:*+
----<IPython.core.display.Math object>----


+*In[6]:*+
[source, ipython3]
----
def my_mean(variable):
   return(my_sum(variable)/my_len(variable))
----


+*In[27]:*+
[source, ipython3]
----
# median and mode are indexing challenges
    
----


+*In[9]:*+
[source, ipython3]
----
# sum of squares
vector = np.array([2,4,5,8,7])
sum((vector-my_mean(vector))**2)

----


+*Out[9]:*+
----22.8----


+*In[14]:*+
[source, ipython3]
----
# variance 
# when should we divide by n-x?
display(Math(" \\frac{1}{n} \cdot  \sum (x-\mu)^2"))

vector = np.array([2,4,5,8,7])
(sum((vector-my_mean(vector))**2))/my_len(vector)
----


+*Out[14]:*+
----<IPython.core.display.Math object>

    ---------------------------------------------------------------------------

    NameError                                 Traceback (most recent call last)

    <ipython-input-14-d2c3f666f26f> in <module>
          3 
          4 vector = np.array([2,4,5,8,7])
    ----> 5 (sum((vector-my_mean(vector))**2))/my_len(vector)
    

    NameError: name 'my_mean' is not defined

----


+*In[11]:*+
[source, ipython3]
----
np.var(vector)
----


+*Out[11]:*+
----4.5600000000000005----


+*In[16]:*+
[source, ipython3]
----
#standarization through a z score finds where x stands to the mean of a normal distribution
#z score is a z = x-mu/sd or
# standarization is needed for some alogrithms 

display(Math("z = \\frac{x-\mu}{sd}"))

----


+*Out[16]:*+
----<IPython.core.display.Math object>----


+*In[17]:*+
[source, ipython3]
----
iris = pd.read_csv("C:/Users/gusta/Desktop/iris.csv.csv")
iris.head()
----


+*Out[17]:*+
----
[cols=",,,,,",options="header",]
|===
| |sepal_length |sepal_width |petal_length |petal_width |species
|0 |5.1 |3.5 |1.4 |0.2 |setosa
|1 |4.9 |3.0 |1.4 |0.2 |setosa
|2 |4.7 |3.2 |1.3 |0.2 |setosa
|3 |4.6 |3.1 |1.5 |0.2 |setosa
|4 |5.0 |3.6 |1.4 |0.2 |setosa
|===
----


+*In[18]:*+
[source, ipython3]
----
iris['sl_standarized'] = (iris['sepal_length']-np.mean(iris['sepal_length']))/np.std(iris['sepal_length'])
iris.head()
----


+*Out[18]:*+
----
[cols=",,,,,,",options="header",]
|===
| |sepal_length |sepal_width |petal_length |petal_width |species
|sl_standarized
|0 |5.1 |3.5 |1.4 |0.2 |setosa |-0.900681

|1 |4.9 |3.0 |1.4 |0.2 |setosa |-1.143017

|2 |4.7 |3.2 |1.3 |0.2 |setosa |-1.385353

|3 |4.6 |3.1 |1.5 |0.2 |setosa |-1.506521

|4 |5.0 |3.6 |1.4 |0.2 |setosa |-1.021849
|===
----


+*In[ ]:*+
[source, ipython3]
----

----
